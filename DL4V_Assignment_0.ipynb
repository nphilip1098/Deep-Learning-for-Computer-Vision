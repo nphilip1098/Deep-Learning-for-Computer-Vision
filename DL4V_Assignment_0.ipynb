{
  "nbformat": 4,
  "nbformat_minor": 0,
  "metadata": {
    "colab": {
      "name": "DL4V_Assignment_0.ipynb",
      "provenance": [],
      "collapsed_sections": [],
      "include_colab_link": true
    },
    "kernelspec": {
      "display_name": "Python 3",
      "language": "python",
      "name": "python3"
    },
    "language_info": {
      "codemirror_mode": {
        "name": "ipython",
        "version": 3
      },
      "file_extension": ".py",
      "mimetype": "text/x-python",
      "name": "python",
      "nbconvert_exporter": "python",
      "pygments_lexer": "ipython3",
      "version": "3.7.3"
    },
    "accelerator": "GPU"
  },
  "cells": [
    {
      "cell_type": "markdown",
      "metadata": {
        "id": "view-in-github",
        "colab_type": "text"
      },
      "source": [
        "<a href=\"https://colab.research.google.com/github/nphilip1098/Deep-Learning-for-Computer-Vision/blob/master/DL4V_Assignment_0.ipynb\" target=\"_parent\"><img src=\"https://colab.research.google.com/assets/colab-badge.svg\" alt=\"Open In Colab\"/></a>"
      ]
    },
    {
      "cell_type": "markdown",
      "metadata": {
        "colab_type": "text",
        "id": "Sdf6X2hjDNFA"
      },
      "source": [
        "#### **Welcome to Assignment 0 on Deep Learning for Computer Vision.**\n",
        "In this assignment you will get a chance to understand and work on some of the commonly used functionalities of several Machine Learnign and Data Analysis libraries\n",
        "\n",
        "#### **Instructions**\n",
        "1. Use Python 3.x to run this notebook\n",
        "2. Write your code only in between the lines 'YOUR CODE STARTS HERE' and 'YOUR CODE ENDS HERE'.\n",
        "3. Look up the documentation for each of the Python and Numpy function used.\n",
        "4. This Assignment is just to make you understand several commonly used library functions.\n",
        "5. This assignment is **NOT** evaluated"
      ]
    },
    {
      "cell_type": "code",
      "metadata": {
        "colab_type": "code",
        "id": "9LTkyyoa9Q2K",
        "colab": {}
      },
      "source": [
        "# DO NOT CHANGE THIS CODE\n",
        "import numpy as np\n",
        "np.random.seed(0)"
      ],
      "execution_count": 1,
      "outputs": []
    },
    {
      "cell_type": "markdown",
      "metadata": {
        "colab_type": "text",
        "id": "8koNOLdwDSf_"
      },
      "source": [
        "#### Python Basics\n"
      ]
    },
    {
      "cell_type": "code",
      "metadata": {
        "colab_type": "code",
        "id": "SqufR0fDDT9s",
        "colab": {}
      },
      "source": [
        "### Implement recursive fibonacci in the function below\n",
        "def recursive_fibonacci(n):\n",
        "\n",
        "  \n",
        "  ## YOUR CODE STARTS HERE\n",
        "  if(n==0 or n==1):\n",
        "    return n\n",
        "  else:\n",
        "    return recursive_fibonacci(n-1) + recursive_fibonacci(n-2)\n",
        "\n",
        "  ## YOUR CODE ENDS HERE"
      ],
      "execution_count": 2,
      "outputs": []
    },
    {
      "cell_type": "code",
      "metadata": {
        "colab_type": "code",
        "id": "rncsA0RIDTdJ",
        "colab": {
          "base_uri": "https://localhost:8080/",
          "height": 34
        },
        "outputId": "a249d8db-feea-4734-d139-10bae5eca3c3"
      },
      "source": [
        "### Test your code using the function call below.\n",
        "recursive_fibonacci(4)"
      ],
      "execution_count": 3,
      "outputs": [
        {
          "output_type": "execute_result",
          "data": {
            "text/plain": [
              "3"
            ]
          },
          "metadata": {
            "tags": []
          },
          "execution_count": 3
        }
      ]
    },
    {
      "cell_type": "markdown",
      "metadata": {
        "colab_type": "text",
        "id": "V0vcbpLPDXNw"
      },
      "source": [
        "#### Lambda function"
      ]
    },
    {
      "cell_type": "code",
      "metadata": {
        "colab_type": "code",
        "id": "r0eP5yH9DYum",
        "colab": {}
      },
      "source": [
        "def sigmoid(x):\n",
        "  sigmoid = 1 / (1 + np.exp(-x))\n",
        "  return sigmoid\n",
        "\n",
        "## Implement the above sigmoid function using python lambda functions\n",
        "## YOUR CODE STARTS HERE\n",
        "sigmoid_lambda = lambda x : 1 / (1 + np.exp(-x))\n",
        "## YOUR CODE ENDS HERE"
      ],
      "execution_count": null,
      "outputs": []
    },
    {
      "cell_type": "code",
      "metadata": {
        "colab_type": "code",
        "id": "Z8OOFvDEKopC",
        "colab": {
          "base_uri": "https://localhost:8080/",
          "height": 34
        },
        "outputId": "ca1915ef-04ac-4144-bea1-b02bff59ae0a"
      },
      "source": [
        "## Check you implementation by running this cell (should return True)\n",
        "sigmoid(1) == sigmoid_lambda(1)"
      ],
      "execution_count": null,
      "outputs": [
        {
          "output_type": "execute_result",
          "data": {
            "text/plain": [
              "True"
            ]
          },
          "metadata": {
            "tags": []
          },
          "execution_count": 7
        }
      ]
    },
    {
      "cell_type": "markdown",
      "metadata": {
        "colab_type": "text",
        "id": "VpfxvB4pKyrm"
      },
      "source": [
        "#### List Comprehension"
      ]
    },
    {
      "cell_type": "code",
      "metadata": {
        "colab_type": "code",
        "id": "336h3e1fKt1h",
        "colab": {}
      },
      "source": [
        "div_by_four = []\n",
        "for number in range(200):\n",
        "    if number%4 == 0:\n",
        "        div_by_four.append(number)\n",
        "        \n",
        "## Implement the above function using list comprehensions\n",
        "## YOUR CODE STARTS HERE\n",
        "div_by_four_lc = [number for number in range(200) if number%4==0]\n",
        "## YOUR CODE ENDS HERE"
      ],
      "execution_count": null,
      "outputs": []
    },
    {
      "cell_type": "code",
      "metadata": {
        "colab_type": "code",
        "id": "sJbe5xkNKvof",
        "colab": {
          "base_uri": "https://localhost:8080/",
          "height": 34
        },
        "outputId": "08aa2380-5d8b-4b9c-fb9d-1d610c3523c2"
      },
      "source": [
        "## Check you implementation by running this cell (should return True)\n",
        "div_by_four == div_by_four_lc"
      ],
      "execution_count": null,
      "outputs": [
        {
          "output_type": "execute_result",
          "data": {
            "text/plain": [
              "True"
            ]
          },
          "metadata": {
            "tags": []
          },
          "execution_count": 9
        }
      ]
    },
    {
      "cell_type": "markdown",
      "metadata": {
        "colab_type": "text",
        "id": "CnmH9QeBDdqo"
      },
      "source": [
        "#### Python map keyword\n",
        "Using the lambda functions and python's map keyword apply sigmoid on a list of numbers from 0 to 99. Store the output in a list and print it. \n",
        "\n",
        "**Observe what happens to the value of sigmoid as the value of x increases. Do you see any trend?**"
      ]
    },
    {
      "cell_type": "code",
      "metadata": {
        "colab_type": "code",
        "id": "O0KFWmM6DcYF",
        "colab": {
          "base_uri": "https://localhost:8080/",
          "height": 54
        },
        "outputId": "38b46373-c729-4c4d-ab74-e4a0f4179b22"
      },
      "source": [
        "## YOUR CODE STARTS HERE\n",
        "out = list(map(lambda x:1 / (1 + np.exp(-x)),range(100)))\n",
        "print(out)\n",
        "## YOUR CODE ENDS HERE"
      ],
      "execution_count": null,
      "outputs": [
        {
          "output_type": "stream",
          "text": [
            "[0.5, 0.7310585786300049, 0.8807970779778823, 0.9525741268224334, 0.9820137900379085, 0.9933071490757153, 0.9975273768433653, 0.9990889488055994, 0.9996646498695336, 0.9998766054240137, 0.9999546021312976, 0.999983298578152, 0.9999938558253978, 0.999997739675702, 0.9999991684719722, 0.999999694097773, 0.9999998874648379, 0.9999999586006244, 0.9999999847700205, 0.9999999943972036, 0.9999999979388463, 0.9999999992417439, 0.9999999997210531, 0.9999999998973812, 0.9999999999622486, 0.999999999986112, 0.999999999994891, 0.9999999999981204, 0.9999999999993086, 0.9999999999997455, 0.9999999999999065, 0.9999999999999656, 0.9999999999999873, 0.9999999999999953, 0.9999999999999982, 0.9999999999999993, 0.9999999999999998, 1.0, 1.0, 1.0, 1.0, 1.0, 1.0, 1.0, 1.0, 1.0, 1.0, 1.0, 1.0, 1.0, 1.0, 1.0, 1.0, 1.0, 1.0, 1.0, 1.0, 1.0, 1.0, 1.0, 1.0, 1.0, 1.0, 1.0, 1.0, 1.0, 1.0, 1.0, 1.0, 1.0, 1.0, 1.0, 1.0, 1.0, 1.0, 1.0, 1.0, 1.0, 1.0, 1.0, 1.0, 1.0, 1.0, 1.0, 1.0, 1.0, 1.0, 1.0, 1.0, 1.0, 1.0, 1.0, 1.0, 1.0, 1.0, 1.0, 1.0, 1.0, 1.0, 1.0]\n"
          ],
          "name": "stdout"
        }
      ]
    },
    {
      "cell_type": "markdown",
      "metadata": {
        "colab_type": "text",
        "id": "VT3ZYI-I1lnd"
      },
      "source": [
        "# Numpy Basics:\n"
      ]
    },
    {
      "cell_type": "markdown",
      "metadata": {
        "colab_type": "text",
        "id": "xK6sSYVF9fd6"
      },
      "source": [
        "#### Creating a numpy array with particular value\n"
      ]
    },
    {
      "cell_type": "code",
      "metadata": {
        "colab_type": "code",
        "id": "sSfnCu7z9sLi",
        "colab": {
          "base_uri": "https://localhost:8080/",
          "height": 50
        },
        "outputId": "29108e9e-9944-40d5-a2a9-a2e45cad4079"
      },
      "source": [
        "# Create a numpy array with size 2*2 with all elements as 8.\n",
        "\n",
        "# YOUR CODE STARTS HERE\n",
        "arr = 8 * np.ones((2,2))\n",
        "print(arr)\n",
        "# YOUR CODE ENDS HERE"
      ],
      "execution_count": null,
      "outputs": [
        {
          "output_type": "stream",
          "text": [
            "[[8. 8.]\n",
            " [8. 8.]]\n"
          ],
          "name": "stdout"
        }
      ]
    },
    {
      "cell_type": "markdown",
      "metadata": {
        "colab_type": "text",
        "id": "GeBrhozVLuAz"
      },
      "source": [
        "#### Basic Numpy operations:"
      ]
    },
    {
      "cell_type": "code",
      "metadata": {
        "colab_type": "code",
        "id": "lGxwXbQ05J9y",
        "colab": {
          "base_uri": "https://localhost:8080/",
          "height": 67
        },
        "outputId": "7568136a-9fb3-4f7c-cf7d-41c583630349"
      },
      "source": [
        "#Create a numpy array of size 3*3 with random values \n",
        "\n",
        "#YOUR CODE STARTS HERE\n",
        "rand_arr = np.random.randn(3,3)\n",
        "print(rand_arr)\n",
        "#YOUR CODE ENDS HERE\n",
        "\n"
      ],
      "execution_count": null,
      "outputs": [
        {
          "output_type": "stream",
          "text": [
            "[[ 0.4105985   0.14404357  1.45427351]\n",
            " [ 0.76103773  0.12167502  0.44386323]\n",
            " [ 0.33367433  1.49407907 -0.20515826]]\n"
          ],
          "name": "stdout"
        }
      ]
    },
    {
      "cell_type": "code",
      "metadata": {
        "colab_type": "code",
        "id": "cZvWczfHkrVe",
        "colab": {
          "base_uri": "https://localhost:8080/",
          "height": 34
        },
        "outputId": "8a55c2c7-011c-486d-d732-599c25bbfc06"
      },
      "source": [
        "#Find the sum of all the elements, mean, maximum and minimum value of the numpy array defined above\n",
        "\n",
        "#YOUR CODE STARTS HERE\n",
        "arr_sum = np.sum(rand_arr)\n",
        "arr_mean = np.mean(rand_arr)\n",
        "arr_max = np.max(rand_arr)\n",
        "arr_min = np.min(rand_arr)\n",
        "\n",
        "print(arr_sum,arr_mean,arr_max,arr_min)\n",
        "#YOUR CODE ENDS HERE"
      ],
      "execution_count": null,
      "outputs": [
        {
          "output_type": "stream",
          "text": [
            "4.958086691213545 0.5508985212459494 1.4940790731576061 -0.20515826376580087\n"
          ],
          "name": "stdout"
        }
      ]
    },
    {
      "cell_type": "markdown",
      "metadata": {
        "colab_type": "text",
        "id": "1h0zn0xPKoZt"
      },
      "source": [
        "#### Reshaping and Indexing of Numpy Array:"
      ]
    },
    {
      "cell_type": "code",
      "metadata": {
        "colab_type": "code",
        "id": "mUmvsP_S6O1o",
        "colab": {
          "base_uri": "https://localhost:8080/",
          "height": 50
        },
        "outputId": "1fd3925f-0a2c-4eee-fd3e-6b2b2439b644"
      },
      "source": [
        "#create a 1D numpy array of shape 35 with values 1,2,3..,35\n",
        "\n",
        "#YOUR CODE STARTS HERE\n",
        "y = np.arange(35)\n",
        "print(y)\n",
        "#YOUR CODE ENDS HERE"
      ],
      "execution_count": null,
      "outputs": [
        {
          "output_type": "stream",
          "text": [
            "[ 0  1  2  3  4  5  6  7  8  9 10 11 12 13 14 15 16 17 18 19 20 21 22 23\n",
            " 24 25 26 27 28 29 30 31 32 33 34]\n"
          ],
          "name": "stdout"
        }
      ]
    },
    {
      "cell_type": "code",
      "metadata": {
        "colab_type": "code",
        "id": "afCQdcjgkyMS",
        "colab": {
          "base_uri": "https://localhost:8080/",
          "height": 34
        },
        "outputId": "f5d4c4a8-af8e-4c6e-9e07-c1d736c0fd42"
      },
      "source": [
        "# Reshape it as 2D array of shape (5,7)\n",
        "\n",
        "#YOUR CODE STARTS HERE\n",
        "y = y.reshape(5,7)\n",
        "#YOUR CODE ENDS HERE\n",
        "y.shape"
      ],
      "execution_count": null,
      "outputs": [
        {
          "output_type": "execute_result",
          "data": {
            "text/plain": [
              "(5, 7)"
            ]
          },
          "metadata": {
            "tags": []
          },
          "execution_count": 25
        }
      ]
    },
    {
      "cell_type": "code",
      "metadata": {
        "colab_type": "code",
        "id": "E5Kjphuyk1AW",
        "colab": {
          "base_uri": "https://localhost:8080/",
          "height": 50
        },
        "outputId": "cf06b083-79f4-43ff-e4ef-447024b2adfc"
      },
      "source": [
        "# Extract all the elements from 2nd and 3rd row\n",
        "\n",
        "#YOUR CODE STARTS HERE\n",
        "y_row =y[2:4,]\n",
        "print(y_row)\n",
        "#YOUR CODE ENDS HERE"
      ],
      "execution_count": null,
      "outputs": [
        {
          "output_type": "stream",
          "text": [
            "[[14 15 16 17 18 19 20]\n",
            " [21 22 23 24 25 26 27]]\n"
          ],
          "name": "stdout"
        }
      ]
    },
    {
      "cell_type": "code",
      "metadata": {
        "colab_type": "code",
        "id": "9zpcaEYFk21B",
        "colab": {
          "base_uri": "https://localhost:8080/",
          "height": 101
        },
        "outputId": "356f1f2d-f33d-4c63-cf9b-99cace0ff175"
      },
      "source": [
        "# Extract all the elements from 3rd and 5th and 7th column\n",
        "\n",
        "#YOUR CODE STARTS HERE\n",
        "y_column = y[:,2:7:2]\n",
        "print(y_column)\n",
        "#YOUR CODE ENDS HERE"
      ],
      "execution_count": null,
      "outputs": [
        {
          "output_type": "stream",
          "text": [
            "[[ 2  4  6]\n",
            " [ 9 11 13]\n",
            " [16 18 20]\n",
            " [23 25 27]\n",
            " [30 32 34]]\n"
          ],
          "name": "stdout"
        }
      ]
    },
    {
      "cell_type": "markdown",
      "metadata": {
        "colab_type": "text",
        "id": "icAVnHAtPuq9"
      },
      "source": [
        "#### Horizontal and vertical stacking of numpy array"
      ]
    },
    {
      "cell_type": "code",
      "metadata": {
        "colab_type": "code",
        "id": "0ExpG_f7OPhB",
        "colab": {}
      },
      "source": [
        "## horizontal and vertical stacking of 1D arrays \n",
        "a = np.array([4.,2.])\n",
        "b = np.array([3.,8.])\n",
        "\n",
        "#YOUR CODE STARTS HERE\n",
        "# Horizontal stacking\n",
        "h_stack = np.hstack((a,b))\n",
        "\n",
        "# Vertical Stacking\n",
        "v_stack =np.vstack((a,b))\n",
        "#YOUR CODE ENDS HERE"
      ],
      "execution_count": null,
      "outputs": []
    },
    {
      "cell_type": "markdown",
      "metadata": {
        "colab_type": "text",
        "id": "v0r_IgoQYW1p"
      },
      "source": [
        "#### `argmin` and `argmax` in numpy array"
      ]
    },
    {
      "cell_type": "code",
      "metadata": {
        "colab_type": "code",
        "id": "rh7FI-uZYWXR",
        "colab": {
          "base_uri": "https://localhost:8080/",
          "height": 67
        },
        "outputId": "e79e21b9-3bdc-4cee-8241-3a210d85e0d7"
      },
      "source": [
        "# Define an array\n",
        "arr = np.array([[5,12,51,25] ,[25,29,2,27]])\n",
        "\n",
        "# YOUR CODE STARTS HERE\n",
        "#Find the position of maximum and minimum value of above array\n",
        "max_idx = np.argmax(arr)\n",
        "min_idx = np.argmin(arr)\n",
        "print (max_idx,min_idx)\n",
        "\n",
        "#Find the indices of maximum and minimum value along each of its columns.\n",
        "max_col = np.argmax(arr,axis=0)\n",
        "min_col =np.argmin(arr,axis=0)\n",
        "print (max_col,min_col)\n",
        "\n",
        "#Find the indices of maximum and minimum value along each of the its rows.\n",
        "max_row = np.argmax(arr,axis=1)\n",
        "min_row = np.argmin(arr,axis=1)\n",
        "print (max_row,min_row)\n",
        "#YOUR CODE ENDS HERE"
      ],
      "execution_count": null,
      "outputs": [
        {
          "output_type": "stream",
          "text": [
            "2 6\n",
            "[1 1 0 1] [0 0 1 0]\n",
            "[2 1] [0 2]\n"
          ],
          "name": "stdout"
        }
      ]
    },
    {
      "cell_type": "code",
      "metadata": {
        "id": "9mlgehgQOJQm",
        "colab_type": "code",
        "colab": {}
      },
      "source": [
        ""
      ],
      "execution_count": null,
      "outputs": []
    }
  ]
}